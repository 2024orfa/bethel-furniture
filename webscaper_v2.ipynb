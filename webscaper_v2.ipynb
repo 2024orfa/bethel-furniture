{
 "cells": [
  {
   "cell_type": "code",
   "execution_count": 14,
   "metadata": {},
   "outputs": [
    {
     "name": "stdout",
     "output_type": "stream",
     "text": [
      "Content successfully saved to web_content_unicsgroup.txt\n"
     ]
    }
   ],
   "source": [
    "from langchain.document_loaders import WebBaseLoader\n",
    "\n",
    "# Load the website\n",
    "url = \"https://unicsgroup.com\"\n",
    "loader = WebBaseLoader(url)\n",
    "documents = loader.load()\n",
    "\n",
    "# Save and format the content\n",
    "output_file = \"web_content_unicsgroup.txt\"\n",
    "\n",
    "with open(output_file, \"w\", encoding=\"utf-8\") as file:\n",
    "    for doc in documents:\n",
    "        # Include the source URL and clean the content\n",
    "        file.write(f\"Source URL: {doc.metadata['source']}\\n\")\n",
    "        file.write(\"=\" * 80 + \"\\n\")\n",
    "        file.write(doc.page_content.strip() + \"\\n\\n\")\n",
    "\n",
    "print(f\"Content successfully saved to {output_file}\")"
   ]
  }
 ],
 "metadata": {
  "kernelspec": {
   "display_name": "Python 3",
   "language": "python",
   "name": "python3"
  },
  "language_info": {
   "codemirror_mode": {
    "name": "ipython",
    "version": 3
   },
   "file_extension": ".py",
   "mimetype": "text/x-python",
   "name": "python",
   "nbconvert_exporter": "python",
   "pygments_lexer": "ipython3",
   "version": "3.12.7"
  }
 },
 "nbformat": 4,
 "nbformat_minor": 2
}
